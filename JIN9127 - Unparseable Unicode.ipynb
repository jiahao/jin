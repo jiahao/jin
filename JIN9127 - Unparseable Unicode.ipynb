{
 "metadata": {
  "language": "Julia",
  "name": "",
  "signature": "sha256:0d95585076b8de7dd447c184e0b64bf58ffde5edf7e28deae6c5f5d98e6b4ab1"
 },
 "nbformat": 3,
 "nbformat_minor": 0,
 "worksheets": [
  {
   "cells": [
    {
     "cell_type": "markdown",
     "metadata": {},
     "source": [
      "# Unparsable Unicode in Julia\n",
      "\n",
      "The purpose of this notebook is to check for Unicode code points that do not parse in Julia."
     ]
    },
    {
     "cell_type": "code",
     "collapsed": false,
     "input": [
      "using JuliaParser"
     ],
     "language": "python",
     "metadata": {},
     "outputs": [],
     "prompt_number": 1
    },
    {
     "cell_type": "markdown",
     "metadata": {},
     "source": [
      "## A. Load Unicode data\n",
      "\n",
      "### 1. Read in official names for each code point"
     ]
    },
    {
     "cell_type": "code",
     "collapsed": false,
     "input": [
      "unicodedatafilename = \"UnicodeData.txt\"\n",
      "isfile(unicodedatafilename) || download(\"http://www.unicode.org/Public/UNIDATA/UnicodeData.txt\", unicodedatafilename)"
     ],
     "language": "python",
     "metadata": {},
     "outputs": [
      {
       "metadata": {},
       "output_type": "pyout",
       "prompt_number": 2,
       "text": [
        "true"
       ]
      }
     ],
     "prompt_number": 2
    },
    {
     "cell_type": "code",
     "collapsed": false,
     "input": [
      "character_description = Dict{Char,String}()\n",
      "#Read in category descriptors\n",
      "open(unicodedatafilename) do f\n",
      "    for l in eachline(f)\n",
      "        tokens = split(l, ';')\n",
      "        unichar= char(uint(\"0x\"*tokens[1]))\n",
      "        character_description[unichar] = tokens[2]*\"/\"tokens[11]\n",
      "    end\n",
      "end"
     ],
     "language": "python",
     "metadata": {},
     "outputs": [],
     "prompt_number": 3
    },
    {
     "cell_type": "markdown",
     "metadata": {},
     "source": [
      "### 2. Read in the category\n",
      "\n",
      "The first part is to read in the general description of each category. The second part reads in the associated category for each code point."
     ]
    },
    {
     "cell_type": "code",
     "collapsed": false,
     "input": [
      "datafilename = \"MathClass.txt\"\n",
      "revision=13\n",
      "isfile(datafilename) || download(\"http://www.unicode.org/Public/math/revision-$revision/MathClass-$revision.txt\", datafilename)"
     ],
     "language": "python",
     "metadata": {},
     "outputs": [
      {
       "metadata": {},
       "output_type": "pyout",
       "prompt_number": 4,
       "text": [
        "true"
       ]
      }
     ],
     "prompt_number": 4
    },
    {
     "cell_type": "code",
     "collapsed": false,
     "input": [
      "category_description = Dict{String,String}()\n",
      "#Read in category descriptors\n",
      "open(datafilename) do f\n",
      "    for l in eachline(f)\n",
      "        (length(l)>0 && l[1]=='#') || break #Only parse beginning comment header\n",
      "        if contains(l, \" - \")\n",
      "            tokens = split(l, ['-'], 2)\n",
      "            catcode = string(tokens[1][3])\n",
      "            desc = strip(tokens[2])\n",
      "            category_description[catcode] = desc\n",
      "            println(catcode, \" - \", desc)\n",
      "        end\n",
      "    end\n",
      "end"
     ],
     "language": "python",
     "metadata": {},
     "outputs": [
      {
       "output_type": "stream",
       "stream": "stdout",
       "text": [
        "N - "
       ]
      },
      {
       "output_type": "stream",
       "stream": "stdout",
       "text": [
        "Normal - includes all digits and symbols requiring only one form\n",
        "A - Alphabetic\n",
        "B - Binary\n",
        "C - Closing - usually paired with opening delimiter\n",
        "D - Diacritic\n",
        "F - Fence - unpaired delimiter (often used as opening or closing)\n",
        "G - Glyph_Part - piece of large operator\n",
        "L - Large - n-ary or large operator, often takes limits\n",
        "O - Opening - usually paired with closing delimiter\n",
        "P - Punctuation\n",
        "R - Relation - includes arrows\n",
        "S - Space\n",
        "U - Unary - operators that are only unary\n",
        "V - Vary - operators that can be unary or binary depending on context\n",
        "X - Special - characters not covered by other classes\n"
       ]
      }
     ],
     "prompt_number": 5
    },
    {
     "cell_type": "code",
     "collapsed": false,
     "input": [
      "categories = Dict()\n",
      "open(datafilename) do f\n",
      "    for l in eachline(f)\n",
      "        lt = split(l, '#')[1]\n",
      "        tokens = split(lt, ';')\n",
      "        length(tokens)\u22652 || continue\n",
      "        codepoint_or_range, catcode = map(strip, split(lt, ';'))\n",
      "\n",
      "        if contains(codepoint_or_range, \"..\") #Range\n",
      "            lo, hi = map(x->int(\"0x\"*x), split(codepoint_or_range, \"..\"))\n",
      "            categories[catcode] = append!(get(categories, catcode, Char[]), [lo:hi])\n",
      "            #println(codepoint_or_range, map(char, [lo:hi]),\n",
      "            #    \") : \", category_description[catcode])\n",
      "        else #single codepoint\n",
      "            codepoint_or_range = split(codepoint_or_range, \"=\")[1]\n",
      "            codepoint = char(uint(\"0x\"*codepoint_or_range))\n",
      "            categories[catcode] = push!(get(categories, catcode, Char[]), codepoint)\n",
      "            #println(codepoint_or_range, \" (\", char(uint(\"0x\"*codepoint_or_range)),\n",
      "            #    \") : \", category_description[catcode])\n",
      "        end\n",
      "    end\n",
      "end"
     ],
     "language": "python",
     "metadata": {},
     "outputs": [],
     "prompt_number": 6
    },
    {
     "cell_type": "markdown",
     "metadata": {},
     "source": [
      "## B. Try parsing Unicode"
     ]
    },
    {
     "cell_type": "code",
     "collapsed": false,
     "input": [
      "isparseable(s::String) = try\n",
      "    JuliaParser.Parser.parse(s)\n",
      "    true\n",
      "catch\n",
      "    false\n",
      "end"
     ],
     "language": "python",
     "metadata": {},
     "outputs": [
      {
       "metadata": {},
       "output_type": "pyout",
       "prompt_number": 7,
       "text": [
        "isparseable (generic function with 1 method)"
       ]
      }
     ],
     "prompt_number": 7
    },
    {
     "cell_type": "code",
     "collapsed": false,
     "input": [
      "printcharinfo(c::Char) = println(\"U+\", hex(c,5), \" (\", c,\n",
      "            \") \", get(character_description, c, \"(no description)\")\n",
      ")"
     ],
     "language": "python",
     "metadata": {},
     "outputs": [
      {
       "metadata": {},
       "output_type": "pyout",
       "prompt_number": 8,
       "text": [
        "printcharinfo (generic function with 1 method)"
       ]
      }
     ],
     "prompt_number": 8
    },
    {
     "cell_type": "markdown",
     "metadata": {},
     "source": [
      "### 1. Find invalid unary operators"
     ]
    },
    {
     "cell_type": "code",
     "collapsed": false,
     "input": [
      "for catcode in [\"U\", \"V\"], unaryop in categories[catcode]\n",
      "    if !isparseable(string(unaryop, \"a\"))\n",
      "        print(\"INVALID: \")\n",
      "        printcharinfo(unaryop)\n",
      "    else\n",
      "        print(\"  VALID: \")\n",
      "        printcharinfo(unaryop)\n",
      "    end\n",
      "end"
     ],
     "language": "python",
     "metadata": {},
     "outputs": [
      {
       "output_type": "stream",
       "stream": "stdout",
       "text": [
        "  VALID: U+"
       ]
      },
      {
       "output_type": "stream",
       "stream": "stdout",
       "text": [
        "000ac (\u00ac) NOT SIGN/\n",
        "INVALID: U+02200 (\u2200) FOR ALL/\n",
        "INVALID: U+02201 (\u2201) COMPLEMENT/\n",
        "INVALID: U+02203 (\u2203) THERE EXISTS/\n",
        "INVALID: U+02204 (\u2204) THERE DOES NOT EXIST/\n",
        "  VALID: "
       ]
      },
      {
       "output_type": "stream",
       "stream": "stdout",
       "text": [
        "U+02206 (\u2206) INCREMENT/\n",
        "  VALID: U+02207 (\u2207) NABLA/\n",
        "  VALID: U+0002b (+) PLUS SIGN/\n",
        "INVALID: U+000b1 (\u00b1) PLUS-MINUS SIGN/PLUS-OR-MINUS SIGN\n",
        "INVALID: U+02212 (\u2212) MINUS SIGN/\n",
        "INVALID: U+02213 (\u2213) MINUS-OR-PLUS SIGN/\n"
       ]
      }
     ],
     "prompt_number": 9
    },
    {
     "cell_type": "markdown",
     "metadata": {},
     "source": [
      "### 2. Find invalid binary operators"
     ]
    },
    {
     "cell_type": "code",
     "collapsed": false,
     "input": [
      "for catcode in keys(categories)\n",
      "    #Skip irrelevant Unicode categories\n",
      "    #(catcode == \"N\" || catcode == \"A\") && continue #Normal and alphabetic\n",
      "    (catcode == \"S\" || catcode == \"P\") && continue #Punctuation and space\n",
      "    #(catcode == \"L\" || catcode == \"G\") && continue #N-ary operators\n",
      "    #(catcode == \"C\" || catcode == \"O\" || catcode ==\"F\" ) && continue #delimiters\n",
      "    (catcode == \"C\" || catcode == \"O\") && continue #delimiters\n",
      "    (catcode == \"U\" ) && continue #unary\n",
      "\n",
      "    println(\"Category: \", category_description[catcode])\n",
      "    numvalid = 0\n",
      "    for binaryop in categories[catcode]\n",
      "        if isparseable(string(\"a\", binaryop, \"b\"))\n",
      "            numvalid += 1\n",
      "            #print(\"  VALID: \")\n",
      "            #printcharinfo(binaryop)\n",
      "        else\n",
      "            print(\"INVALID: \")\n",
      "            printcharinfo(binaryop)\n",
      "        end\n",
      "    end\n",
      "    println(\"Valid: \", numvalid, \" Invalid: \", length(categories[catcode]) - numvalid, \"\\n\")\n",
      "end"
     ],
     "language": "python",
     "metadata": {},
     "outputs": [
      {
       "output_type": "stream",
       "stream": "stdout",
       "text": [
        "Category: "
       ]
      },
      {
       "output_type": "stream",
       "stream": "stdout",
       "text": [
        "Vary - operators that can be unary or binary depending on context\n",
        "INVALID: U+02212 (\u2212) MINUS SIGN/\n",
        "Valid: 3 Invalid: 1\n",
        "\n",
        "Category: Large - n-ary or large operator, often takes limits\n",
        "INVALID: U+00606 (\u0606) ARABIC-INDIC CUBE ROOT/\n",
        "INVALID: U+00607 (\u0607) ARABIC-INDIC FOURTH ROOT/\n",
        "INVALID: U+0221a (\u221a) SQUARE ROOT/\n",
        "INVALID: U+0221b (\u221b) CUBE ROOT/\n",
        "INVALID: U+0221c (\u221c) FOURTH ROOT/\n",
        "INVALID: U+027cc (\u27cc) LONG DIVISION/\n",
        "INVALID: U+027d5 (\u27d5) LEFT OUTER JOIN/\n",
        "INVALID: U+027d6 (\u27d6) RIGHT OUTER JOIN/\n",
        "INVALID: U+027d7 (\u27d7) FULL OUTER JOIN/\n",
        "INVALID: U+029f8 (\u29f8) BIG SOLIDUS/\n",
        "INVALID: U+029f9 (\u29f9) BIG REVERSE SOLIDUS/\n",
        "INVALID: U+02a17 (\u2a17) INTEGRAL WITH LEFTWARDS ARROW WITH HOOK/\n",
        "INVALID: U+02a18 (\u2a18) INTEGRAL WITH TIMES SIGN/\n",
        "INVALID: U+02a19 (\u2a19) INTEGRAL WITH INTERSECTION/\n",
        "INVALID: U+02a1a (\u2a1a) INTEGRAL WITH UNION/\n",
        "INVALID: U+02a1d (\u2a1d) JOIN/\n",
        "INVALID: U+02a1e (\u2a1e) LARGE LEFT TRIANGLE OPERATOR/\n",
        "INVALID: U+02a1f (\u2a1f) Z NOTATION SCHEMA COMPOSITION/\n",
        "INVALID: U+02a20 (\u2a20) Z NOTATION SCHEMA PIPING/\n",
        "INVALID: U+02a21 (\u2a21) Z NOTATION SCHEMA PROJECTION/\n",
        "INVALID: U+02afc (\u2afc) LARGE TRIPLE VERTICAL BAR OPERATOR/\n",
        "INVALID: U+02aff (\u2aff) N-ARY WHITE VERTICAL BAR/\n",
        "Valid: 44 Invalid: 22\n",
        "\n",
        "Category: Binary\n",
        "INVALID: U+02044 (\u2044) FRACTION SLASH/\n",
        "INVALID: U+02061 (\u2061) FUNCTION APPLICATION/\n",
        "INVALID: U+02062 (\u2062) INVISIBLE TIMES/\n",
        "INVALID: U+02215 (\u2215) DIVISION SLASH/\n",
        "INVALID: U+02216 (\u2216) SET MINUS/\n",
        "INVALID: U+0228c (\u228c) MULTISET/\n",
        "INVALID: U+0229d (\u229d) CIRCLED DASH/\n",
        "INVALID: U+022b9 (\u22b9) HERMITIAN CONJUGATE MATRIX/\n",
        "INVALID: U+022ba (\u22ba) INTERCALATE/\n",
        "INVALID: U+025b7 (\u25b7) WHITE RIGHT-POINTING TRIANGLE/WHITE RIGHT POINTING TRIANGLE\n",
        "INVALID: U+025c1 (\u25c1) WHITE LEFT-POINTING TRIANGLE/WHITE LEFT POINTING TRIANGLE\n",
        "INVALID: U+027ce (\u27ce) SQUARED LOGICAL AND/\n",
        "INVALID: U+027cf (\u27cf) SQUARED LOGICAL OR/\n",
        "INVALID: U+027e0 (\u27e0) LOZENGE DIVIDED BY HORIZONTAL RULE/\n",
        "INVALID: U+027e1 (\u27e1) WHITE CONCAVE-SIDED DIAMOND/\n",
        "INVALID: U+027e2 (\u27e2) WHITE CONCAVE-SIDED DIAMOND WITH LEFTWARDS TICK/\n",
        "INVALID: U+027e3 (\u27e3) WHITE CONCAVE-SIDED DIAMOND WITH RIGHTWARDS TICK/\n",
        "INVALID: U+027e4 (\u27e4) WHITE SQUARE WITH LEFTWARDS TICK/\n",
        "INVALID: U+027e5 (\u27e5) WHITE SQUARE WITH RIGHTWARDS TICK/\n",
        "INVALID: U+029b6 (\u29b6) CIRCLED VERTICAL BAR/\n",
        "INVALID: U+029b9 (\u29b9) CIRCLED PERPENDICULAR/\n",
        "INVALID: U+029c4 (\u29c4) SQUARED RISING DIAGONAL SLASH/\n",
        "INVALID: U+029c5 (\u29c5) SQUARED FALLING DIAGONAL SLASH/\n",
        "INVALID: U+029c6 (\u29c6) SQUARED ASTERISK/\n",
        "INVALID: U+029c7 (\u29c7) SQUARED SMALL CIRCLE/\n",
        "INVALID: U+029c8 (\u29c8) SQUARED SQUARE/\n",
        "INVALID: U+029d6 (\u29d6) WHITE HOURGLASS/\n",
        "INVALID: U+029d7 (\u29d7) BLACK HOURGLASS/\n",
        "INVALID: U+029e2 (\u29e2) SHUFFLE PRODUCT/\n",
        "INVALID: U+029eb (\u29eb) BLACK LOZENGE/\n",
        "INVALID: U+029f5 (\u29f5) REVERSE SOLIDUS OPERATOR/\n",
        "INVALID: U+029fe (\u29fe) TINY/\n",
        "INVALID: U+029ff (\u29ff) MINY/\n",
        "INVALID: U+02a2f (\u2a2f) VECTOR OR CROSS PRODUCT/\n",
        "INVALID: U+02a3e (\u2a3e) Z NOTATION RELATIONAL COMPOSITION/\n",
        "INVALID: U+02a3f (\u2a3f) AMALGAMATION OR COPRODUCT/\n",
        "INVALID: U+02a46 (\u2a46) UNION ABOVE INTERSECTION/\n",
        "INVALID: U+02a47 (\u2a47) INTERSECTION ABOVE UNION/\n",
        "INVALID: U+02a48 (\u2a48) UNION ABOVE BAR ABOVE INTERSECTION/\n",
        "INVALID: U+02a49 (\u2a49) INTERSECTION ABOVE BAR ABOVE UNION/\n",
        "INVALID: U+02a64 (\u2a64) Z NOTATION DOMAIN ANTIRESTRICTION/\n",
        "INVALID: U+02a65 (\u2a65) Z NOTATION RANGE ANTIRESTRICTION/\n",
        "INVALID: U+02af4 (\u2af4) TRIPLE VERTICAL BAR BINARY RELATION/\n",
        "INVALID: U+02af5 (\u2af5) TRIPLE VERTICAL BAR WITH HORIZONTAL STROKE/\n",
        "INVALID: U+02af6 (\u2af6) TRIPLE COLON OPERATOR/\n",
        "INVALID: U+02afb (\u2afb) TRIPLE SOLIDUS BINARY RELATION/\n",
        "INVALID: U+02afd (\u2afd) DOUBLE SOLIDUS OPERATOR/\n",
        "INVALID: U+02afe (\u2afe) WHITE VERTICAL BAR/\n",
        "Valid: 153 Invalid: 48\n",
        "\n",
        "Category: Normal - includes all digits and symbols requiring only one form\n",
        "INVALID: "
       ]
      },
      {
       "output_type": "stream",
       "stream": "stdout",
       "text": [
        "U+003f6 (\u03f6) GREEK REVERSED LUNATE EPSILON SYMBOL/\n",
        "INVALID: U+02052 (\u2052) COMMERCIAL MINUS SIGN/\n",
        "INVALID: U+023dc (\u23dc) TOP PARENTHESIS/\n",
        "INVALID: U+023dd (\u23dd) BOTTOM PARENTHESIS/\n",
        "INVALID: U+023de (\u23de) TOP CURLY BRACKET/\n",
        "INVALID: U+023df (\u23df) BOTTOM CURLY BRACKET/\n",
        "INVALID: U+023e0 (\u23e0) TOP TORTOISE SHELL BRACKET/\n",
        "INVALID: U+023e1 (\u23e1) BOTTOM TORTOISE SHELL BRACKET/\n",
        "INVALID: U+027d0 (\u27d0) WHITE DIAMOND WITH CENTRED DOT/\n",
        "INVALID: U+02981 (\u2981) Z NOTATION SPOT/\n",
        "INVALID: U+029b5 (\u29b5) CIRCLE WITH HORIZONTAL BAR/\n",
        "INVALID: U+029ba (\u29ba) CIRCLE DIVIDED BY HORIZONTAL BAR AND TOP HALF DIVIDED BY VERTICAL BAR/\n",
        "INVALID: U+029bb (\u29bb) CIRCLE WITH SUPERIMPOSED X/\n",
        "INVALID: U+029bd (\u29bd) UP ARROW THROUGH CIRCLE/\n",
        "INVALID: U+029c2 (\u29c2) CIRCLE WITH SMALL CIRCLE TO THE RIGHT/\n",
        "INVALID: U+029c3 (\u29c3) CIRCLE WITH TWO HORIZONTAL STROKES TO THE RIGHT/\n",
        "INVALID: U+029c9 (\u29c9) TWO JOINED SQUARES/\n",
        "INVALID: U+029ca (\u29ca) TRIANGLE WITH DOT ABOVE/\n",
        "INVALID: U+029cb (\u29cb) TRIANGLE WITH UNDERBAR/\n",
        "INVALID: U+029cc (\u29cc) S IN TRIANGLE/\n",
        "INVALID: U+029cd (\u29cd) TRIANGLE WITH SERIFS AT BOTTOM/\n",
        "INVALID: U+029dc (\u29dc) INCOMPLETE INFINITY/\n",
        "INVALID: U+029dd (\u29dd) TIE OVER INFINITY/\n",
        "INVALID: U+029de (\u29de) INFINITY NEGATED WITH VERTICAL BAR/\n",
        "INVALID: U+029e0 (\u29e0) SQUARE WITH CONTOURED OUTLINE/\n",
        "INVALID: U+029e7 (\u29e7) THERMODYNAMIC/\n",
        "INVALID: U+029e8 (\u29e8) DOWN-POINTING TRIANGLE WITH LEFT HALF BLACK/\n",
        "INVALID: U+029e9 (\u29e9) DOWN-POINTING TRIANGLE WITH RIGHT HALF BLACK/\n",
        "INVALID: U+029ea (\u29ea) BLACK DIAMOND WITH DOWN ARROW/\n",
        "INVALID: U+029ec (\u29ec) WHITE CIRCLE WITH DOWN ARROW/\n",
        "INVALID: U+029ed (\u29ed) BLACK CIRCLE WITH DOWN ARROW/\n",
        "INVALID: U+029ee (\u29ee) ERROR-BARRED WHITE SQUARE/\n",
        "INVALID: U+029ef (\u29ef) ERROR-BARRED BLACK SQUARE/\n",
        "INVALID: U+029f0 (\u29f0) ERROR-BARRED WHITE DIAMOND/\n",
        "INVALID: U+029f1 (\u29f1) ERROR-BARRED BLACK DIAMOND/\n",
        "INVALID: U+029f2 (\u29f2) ERROR-BARRED WHITE CIRCLE/\n",
        "INVALID: U+029f3 (\u29f3) ERROR-BARRED BLACK CIRCLE/\n",
        "INVALID: U+02ae1 (\u2ae1) PERPENDICULAR WITH S/\n",
        "INVALID: U+02af1 (\u2af1) DOWN TACK WITH CIRCLE BELOW/\n",
        "Valid: 277 Invalid: 39\n",
        "\n",
        "Category: Alphabetic\n",
        "INVALID: U+00608 (\u0608) ARABIC RAY/\n",
        "INVALID: U+1d455 (\ud835\udc55) (no description)\n",
        "Valid: 1098 Invalid: 2\n",
        "\n",
        "Category: Special - characters not covered by other classes\n",
        "INVALID: U+02064 (\u2064) INVISIBLE PLUS/\n",
        "INVALID: U+03008 (\u3008) LEFT ANGLE BRACKET/OPENING ANGLE BRACKET\n",
        "INVALID: U+03009 (\u3009) RIGHT ANGLE BRACKET/CLOSING ANGLE BRACKET\n",
        "INVALID: U+0301a (\u301a) LEFT WHITE SQUARE BRACKET/OPENING WHITE SQUARE BRACKET\n",
        "INVALID: U+0301b (\u301b) RIGHT WHITE SQUARE BRACKET/CLOSING WHITE SQUARE BRACKET\n",
        "INVALID: U+0fb29 (\ufb29) HEBREW LETTER ALTERNATIVE PLUS SIGN/\n",
        "INVALID: U+0fe62 (\ufe62) SMALL PLUS SIGN/\n",
        "INVALID: U+0fe63 (\ufe63) SMALL HYPHEN-MINUS/\n",
        "INVALID: U+0fe64 (\ufe64) SMALL LESS-THAN SIGN/\n",
        "INVALID: U+0fe65 (\ufe65) SMALL GREATER-THAN SIGN/\n",
        "INVALID: U+0fe66 (\ufe66) SMALL EQUALS SIGN/\n",
        "INVALID: U+0fe67 (\ufe67) (no description)\n",
        "INVALID: U+0ff0b (\uff0b) FULLWIDTH PLUS SIGN/\n",
        "INVALID: U+0ff1c (\uff1c) FULLWIDTH LESS-THAN SIGN/\n",
        "INVALID: U+0ff1d (\uff1d) FULLWIDTH EQUALS SIGN/\n",
        "INVALID: U+0ff1e (\uff1e) FULLWIDTH GREATER-THAN SIGN/\n",
        "INVALID: U+0ff5c (\uff5c) FULLWIDTH VERTICAL LINE/FULLWIDTH VERTICAL BAR\n",
        "INVALID: U+0ff5e (\uff5e) FULLWIDTH TILDE/FULLWIDTH SPACING TILDE\n",
        "INVALID: U+0ffe2 (\uffe2) FULLWIDTH NOT SIGN/\n",
        "Valid: 9 Invalid: 19\n",
        "\n",
        "Category: Diacritic\n",
        "INVALID: U+00060 (`) GRAVE ACCENT/SPACING GRAVE\n",
        "Valid: 62 Invalid: 1\n",
        "\n",
        "Category: Glyph_Part - piece of large operator\n",
        "INVALID: U+02320 (\u2320) TOP HALF INTEGRAL/\n",
        "INVALID: U+02321 (\u2321) BOTTOM HALF INTEGRAL/\n",
        "INVALID: U+0239b (\u239b) LEFT PARENTHESIS UPPER HOOK/\n",
        "INVALID: U+0239c (\u239c) LEFT PARENTHESIS EXTENSION/\n",
        "INVALID: U+0239d (\u239d) LEFT PARENTHESIS LOWER HOOK/\n",
        "INVALID: U+0239e (\u239e) RIGHT PARENTHESIS UPPER HOOK/\n",
        "INVALID: U+0239f (\u239f) RIGHT PARENTHESIS EXTENSION/\n",
        "INVALID: U+023a0 (\u23a0) RIGHT PARENTHESIS LOWER HOOK/\n",
        "INVALID: U+023a1 (\u23a1) LEFT SQUARE BRACKET UPPER CORNER/\n",
        "INVALID: U+023a2 (\u23a2) LEFT SQUARE BRACKET EXTENSION/\n",
        "INVALID: U+023a3 (\u23a3) LEFT SQUARE BRACKET LOWER CORNER/\n",
        "INVALID: U+023a4 (\u23a4) RIGHT SQUARE BRACKET UPPER CORNER/\n",
        "INVALID: U+023a5 (\u23a5) RIGHT SQUARE BRACKET EXTENSION/\n",
        "INVALID: U+023a6 (\u23a6) RIGHT SQUARE BRACKET LOWER CORNER/\n",
        "INVALID: U+023a7 (\u23a7) LEFT CURLY BRACKET UPPER HOOK/\n",
        "INVALID: U+023a8 (\u23a8) LEFT CURLY BRACKET MIDDLE PIECE/\n",
        "INVALID: U+023a9 (\u23a9) LEFT CURLY BRACKET LOWER HOOK/\n",
        "INVALID: U+023aa (\u23aa) CURLY BRACKET EXTENSION/\n",
        "INVALID: U+023ab (\u23ab) RIGHT CURLY BRACKET UPPER HOOK/\n",
        "INVALID: U+023ac (\u23ac) RIGHT CURLY BRACKET MIDDLE PIECE/\n",
        "INVALID: U+023ad (\u23ad) RIGHT CURLY BRACKET LOWER HOOK/\n",
        "INVALID: U+023ae (\u23ae) INTEGRAL EXTENSION/\n",
        "INVALID: U+023af (\u23af) HORIZONTAL LINE EXTENSION/\n",
        "INVALID: U+023b2 (\u23b2) SUMMATION TOP/\n",
        "INVALID: U+023b3 (\u23b3) SUMMATION BOTTOM/\n",
        "Valid: 2 Invalid: 25\n",
        "\n",
        "Category: Relation - includes arrows\n",
        "INVALID: U+02223 (\u2223) DIVIDES/\n",
        "INVALID: U+02234 (\u2234) THEREFORE/\n",
        "INVALID: U+02235 (\u2235) BECAUSE/\n",
        "INVALID: U+02236 (\u2236) RATIO/\n",
        "INVALID: U+02239 (\u2239) EXCESS/\n",
        "INVALID: U+0223c (\u223c) TILDE OPERATOR/\n",
        "INVALID: U+022a6 (\u22a6) ASSERTION/\n",
        "INVALID: U+022a7 (\u22a7) MODELS/\n",
        "INVALID: U+022a8 (\u22a8) TRUE/\n",
        "INVALID: U+022aa (\u22aa) TRIPLE VERTICAL BAR RIGHT TURNSTILE/\n",
        "INVALID: U+022ab (\u22ab) DOUBLE VERTICAL BAR DOUBLE RIGHT TURNSTILE/\n",
        "INVALID: U+022ad (\u22ad) NOT TRUE/\n",
        "INVALID: U+022af (\u22af) NEGATED DOUBLE VERTICAL BAR DOUBLE RIGHT TURNSTILE/\n",
        "INVALID: U+022b8 (\u22b8) MULTIMAP/\n",
        "INVALID: U+022c8 (\u22c8) BOWTIE/\n",
        "INVALID: U+022d4 (\u22d4) PITCHFORK/\n",
        "INVALID: U+0237c (\u237c) RIGHT ANGLE WITH DOWNWARDS ZIGZAG ARROW/\n",
        "INVALID: U+023b0 (\u23b0) UPPER LEFT OR LOWER RIGHT CURLY BRACKET SECTION/\n",
        "INVALID: U+023b1 (\u23b1) UPPER RIGHT OR LOWER LEFT CURLY BRACKET SECTION/\n",
        "INVALID: U+027c3 (\u27c3) OPEN SUBSET/\n",
        "INVALID: U+027c4 (\u27c4) OPEN SUPERSET/\n",
        "INVALID: U+027c5 (\u27c5) LEFT S-SHAPED BAG DELIMITER/\n",
        "INVALID: U+027c6 (\u27c6) RIGHT S-SHAPED BAG DELIMITER/\n",
        "INVALID: U+027c7 (\u27c7) OR WITH DOT INSIDE/\n",
        "INVALID: U+027ca (\u27ca) VERTICAL BAR WITH HORIZONTAL STROKE/\n",
        "INVALID: U+027cb (\u27cb) MATHEMATICAL RISING DIAGONAL/\n",
        "INVALID: U+027cd (\u27cd) MATHEMATICAL FALLING DIAGONAL/\n",
        "INVALID: U+027d3 (\u27d3) LOWER RIGHT CORNER WITH DOT/\n",
        "INVALID: U+027d4 (\u27d4) UPPER LEFT CORNER WITH DOT/\n",
        "INVALID: U+027da (\u27da) LEFT AND RIGHT DOUBLE TURNSTILE/\n",
        "INVALID: U+027db (\u27db) LEFT AND RIGHT TACK/\n",
        "INVALID: U+027dc (\u27dc) LEFT MULTIMAP/\n",
        "INVALID: U+027dd (\u27dd) LONG RIGHT TACK/\n",
        "INVALID: U+027de (\u27de) LONG LEFT TACK/\n",
        "INVALID: U+027df (\u27df) UP TACK WITH CIRCLE ABOVE/\n",
        "INVALID: U+027f2 (\u27f2) ANTICLOCKWISE GAPPED CIRCLE ARROW/\n",
        "INVALID: U+027f3 (\u27f3) CLOCKWISE GAPPED CIRCLE ARROW/\n",
        "INVALID: U+027f4 (\u27f4) RIGHT ARROW WITH CIRCLED PLUS/\n",
        "INVALID: U+027f8 (\u27f8) LONG LEFTWARDS DOUBLE ARROW/\n",
        "INVALID: U+02919 (\u2919) LEFTWARDS ARROW-TAIL/\n",
        "INVALID: U+0291a (\u291a) RIGHTWARDS ARROW-TAIL/\n",
        "INVALID: U+0291b (\u291b) LEFTWARDS DOUBLE ARROW-TAIL/\n",
        "INVALID: U+0291c (\u291c) RIGHTWARDS DOUBLE ARROW-TAIL/\n",
        "INVALID: U+02921 (\u2921) NORTH WEST AND SOUTH EAST ARROW/\n",
        "INVALID: U+02922 (\u2922) NORTH EAST AND SOUTH WEST ARROW/\n",
        "INVALID: U+02923 (\u2923) NORTH WEST ARROW WITH HOOK/\n",
        "INVALID: U+02924 (\u2924) NORTH EAST ARROW WITH HOOK/\n",
        "INVALID: U+02925 (\u2925) SOUTH EAST ARROW WITH HOOK/\n",
        "INVALID: U+02926 (\u2926) SOUTH WEST ARROW WITH HOOK/\n",
        "INVALID: U+02927 (\u2927) NORTH WEST ARROW AND NORTH EAST ARROW/\n",
        "INVALID: U+02928 (\u2928) NORTH EAST ARROW AND SOUTH EAST ARROW/\n",
        "INVALID: U+02929 (\u2929) SOUTH EAST ARROW AND SOUTH WEST ARROW/\n",
        "INVALID: U+0292a (\u292a) SOUTH WEST ARROW AND NORTH WEST ARROW/\n",
        "INVALID: U+0292b (\u292b) RISING DIAGONAL CROSSING FALLING DIAGONAL/\n",
        "INVALID: U+0292c (\u292c) FALLING DIAGONAL CROSSING RISING DIAGONAL/\n",
        "INVALID: U+0292d (\u292d) SOUTH EAST ARROW CROSSING NORTH EAST ARROW/\n",
        "INVALID: U+0292e (\u292e) NORTH EAST ARROW CROSSING SOUTH EAST ARROW/\n",
        "INVALID: U+0292f (\u292f) FALLING DIAGONAL CROSSING NORTH EAST ARROW/\n",
        "INVALID: U+02930 (\u2930) RISING DIAGONAL CROSSING SOUTH EAST ARROW/\n",
        "INVALID: U+02931 (\u2931) NORTH EAST ARROW CROSSING NORTH WEST ARROW/\n",
        "INVALID: U+02932 (\u2932) NORTH WEST ARROW CROSSING NORTH EAST ARROW/\n",
        "INVALID: U+02933 (\u2933) WAVE ARROW POINTING DIRECTLY RIGHT/\n",
        "INVALID: U+02934 (\u2934) ARROW POINTING RIGHTWARDS THEN CURVING UPWARDS/\n",
        "INVALID: U+02935 (\u2935) ARROW POINTING RIGHTWARDS THEN CURVING DOWNWARDS/\n",
        "INVALID: U+02936 (\u2936) ARROW POINTING DOWNWARDS THEN CURVING LEFTWARDS/\n",
        "INVALID: U+02937 (\u2937) ARROW POINTING DOWNWARDS THEN CURVING RIGHTWARDS/\n",
        "INVALID: U+02938 (\u2938) RIGHT-SIDE ARC CLOCKWISE ARROW/\n",
        "INVALID: U+02939 (\u2939) LEFT-SIDE ARC ANTICLOCKWISE ARROW/\n",
        "INVALID: U+0293a (\u293a) TOP ARC ANTICLOCKWISE ARROW/\n",
        "INVALID: U+0293b (\u293b) BOTTOM ARC ANTICLOCKWISE ARROW/\n",
        "INVALID: U+0293c (\u293c) TOP ARC CLOCKWISE ARROW WITH MINUS/\n",
        "INVALID: U+0293d (\u293d) TOP ARC ANTICLOCKWISE ARROW WITH PLUS/\n",
        "INVALID: U+0293e (\u293e) LOWER RIGHT SEMICIRCULAR CLOCKWISE ARROW/\n",
        "INVALID: U+0293f (\u293f) LOWER LEFT SEMICIRCULAR ANTICLOCKWISE ARROW/\n",
        "INVALID: U+02940 (\u2940) ANTICLOCKWISE CLOSED CIRCLE ARROW/\n",
        "INVALID: U+02941 (\u2941) CLOCKWISE CLOSED CIRCLE ARROW/\n",
        "INVALID: U+02942 (\u2942) RIGHTWARDS ARROW ABOVE SHORT LEFTWARDS ARROW/\n",
        "INVALID: U+02943 (\u2943) LEFTWARDS ARROW ABOVE SHORT RIGHTWARDS ARROW/\n",
        "INVALID: U+02971 (\u2971) EQUALS SIGN ABOVE RIGHTWARDS ARROW/\n",
        "INVALID: U+02972 (\u2972) TILDE OPERATOR ABOVE RIGHTWARDS ARROW/\n",
        "INVALID: U+02973 (\u2973) LEFTWARDS ARROW ABOVE TILDE OPERATOR/\n",
        "INVALID: U+02974 (\u2974) RIGHTWARDS ARROW ABOVE TILDE OPERATOR/\n",
        "INVALID: U+02975 (\u2975) RIGHTWARDS ARROW ABOVE ALMOST EQUAL TO/\n",
        "INVALID: U+02976 (\u2976) LESS-THAN ABOVE LEFTWARDS ARROW/\n",
        "INVALID: U+02977 (\u2977) LEFTWARDS ARROW THROUGH LESS-THAN/\n",
        "INVALID: U+02978 (\u2978) GREATER-THAN ABOVE RIGHTWARDS ARROW/\n",
        "INVALID: U+02979 (\u2979) SUBSET ABOVE RIGHTWARDS ARROW/\n",
        "INVALID: U+0297a (\u297a) LEFTWARDS ARROW THROUGH SUBSET/\n",
        "INVALID: U+0297b (\u297b) SUPERSET ABOVE LEFTWARDS ARROW/\n",
        "INVALID: U+0297c (\u297c) LEFT FISH TAIL/\n",
        "INVALID: U+0297d (\u297d) RIGHT FISH TAIL/\n",
        "INVALID: U+0297e (\u297e) UP FISH TAIL/\n",
        "INVALID: U+0297f (\u297f) DOWN FISH TAIL/\n",
        "INVALID: U+029ce (\u29ce) RIGHT TRIANGLE ABOVE LEFT TRIANGLE/\n",
        "INVALID: U+029cf (\u29cf) LEFT TRIANGLE BESIDE VERTICAL BAR/\n",
        "INVALID: U+029d0 (\u29d0) VERTICAL BAR BESIDE RIGHT TRIANGLE/\n",
        "INVALID: U+029d1 (\u29d1) BOWTIE WITH LEFT HALF BLACK/\n",
        "INVALID: U+029d2 (\u29d2) BOWTIE WITH RIGHT HALF BLACK/\n",
        "INVALID: U+029d3 (\u29d3) BLACK BOWTIE/\n",
        "INVALID: U+029d4 (\u29d4) TIMES WITH LEFT HALF BLACK/\n",
        "INVALID: U+029d5 (\u29d5) TIMES WITH RIGHT HALF BLACK/\n",
        "INVALID: U+029df (\u29df) DOUBLE-ENDED MULTIMAP/\n",
        "INVALID: U+029e6 (\u29e6) GLEICH STARK/\n",
        "INVALID: U+02a59 (\u2a59) LOGICAL OR OVERLAPPING LOGICAL AND/\n",
        "INVALID: U+02a68 (\u2a68) TRIPLE HORIZONTAL BAR WITH DOUBLE VERTICAL STROKE/\n",
        "INVALID: "
       ]
      },
      {
       "output_type": "stream",
       "stream": "stdout",
       "text": [
        "U+02a69 (\u2a69) TRIPLE HORIZONTAL BAR WITH TRIPLE VERTICAL STROKE/\n",
        "INVALID: U+02ada (\u2ada) PITCHFORK WITH TEE TOP/\n",
        "INVALID: U+02adc (\u2adc) FORKING/\n",
        "INVALID: U+02add (\u2add) NONFORKING/\n",
        "INVALID: U+02ade (\u2ade) SHORT LEFT TACK/\n",
        "INVALID: U+02adf (\u2adf) SHORT DOWN TACK/\n",
        "INVALID: U+02ae0 (\u2ae0) SHORT UP TACK/\n",
        "INVALID: U+02ae2 (\u2ae2) VERTICAL BAR TRIPLE RIGHT TURNSTILE/\n",
        "INVALID: U+02ae3 (\u2ae3) DOUBLE VERTICAL BAR LEFT TURNSTILE/\n",
        "INVALID: U+02ae4 (\u2ae4) VERTICAL BAR DOUBLE LEFT TURNSTILE/\n",
        "INVALID: U+02ae5 (\u2ae5) DOUBLE VERTICAL BAR DOUBLE LEFT TURNSTILE/\n",
        "INVALID: U+02ae6 (\u2ae6) LONG DASH FROM LEFT MEMBER OF DOUBLE VERTICAL/\n",
        "INVALID: U+02ae7 (\u2ae7) SHORT DOWN TACK WITH OVERBAR/\n",
        "INVALID: U+02ae8 (\u2ae8) SHORT UP TACK WITH UNDERBAR/\n",
        "INVALID: U+02ae9 (\u2ae9) SHORT UP TACK ABOVE SHORT DOWN TACK/\n",
        "INVALID: U+02aea (\u2aea) DOUBLE DOWN TACK/\n",
        "INVALID: U+02aeb (\u2aeb) DOUBLE UP TACK/\n",
        "INVALID: U+02aec (\u2aec) DOUBLE STROKE NOT SIGN/\n",
        "INVALID: U+02aed (\u2aed) REVERSED DOUBLE STROKE NOT SIGN/\n",
        "INVALID: U+02aee (\u2aee) DOES NOT DIVIDE WITH REVERSED NEGATION SLASH/\n",
        "INVALID: U+02aef (\u2aef) VERTICAL LINE WITH CIRCLE ABOVE/\n",
        "INVALID: U+02af0 (\u2af0) VERTICAL LINE WITH CIRCLE BELOW/\n",
        "INVALID: U+02af2 (\u2af2) PARALLEL WITH HORIZONTAL STROKE/\n",
        "INVALID: U+02af3 (\u2af3) PARALLEL WITH TILDE OPERATOR/\n",
        "Valid: 528 Invalid: 129\n",
        "\n",
        "Category: Fence - unpaired delimiter (often used as opening or closing)\n",
        "INVALID: U+02980 (\u2980) TRIPLE VERTICAL BAR DELIMITER/\n",
        "INVALID: U+02982 (\u2982) Z NOTATION TYPE COLON/\n",
        "INVALID: U+02999 (\u2999) DOTTED FENCE/\n",
        "INVALID: U+0299a (\u299a) VERTICAL ZIGZAG LINE/\n",
        "Valid: 2 Invalid: 4\n",
        "\n"
       ]
      }
     ],
     "prompt_number": 10
    }
   ],
   "metadata": {}
  }
 ]
}